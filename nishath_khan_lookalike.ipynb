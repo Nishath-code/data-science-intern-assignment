{
 "cells": [
  {
   "cell_type": "code",
   "execution_count": 2,
   "id": "f1526eeb-2000-47c7-9b04-601424b526df",
   "metadata": {},
   "outputs": [],
   "source": [
    "import pandas as pd\n",
    "from sklearn.metrics.pairwise import cosine_similarity\n",
    "from sklearn.preprocessing import StandardScaler\n"
   ]
  },
  {
   "cell_type": "code",
   "execution_count": 3,
   "id": "1ffd1b22-7eff-4d7c-82af-ebd97c0bf206",
   "metadata": {},
   "outputs": [],
   "source": [
    "# Load the datasets\n",
    "customers = pd.read_csv(\"C:\\\\Users\\\\patan Nishath khan\\\\Downloads\\\\Customers.csv\")\n",
    "products = pd.read_csv(\"C:\\\\Users\\\\patan Nishath khan\\\\Downloads\\\\Products.csv\")\n",
    "transactions = pd.read_csv(\"C:\\\\Users\\\\patan Nishath khan\\\\Downloads\\\\Transactions.csv\")\n"
   ]
  },
  {
   "cell_type": "code",
   "execution_count": 4,
   "id": "6e387140-ab18-46ab-9d2c-feeda83c0d03",
   "metadata": {},
   "outputs": [],
   "source": [
    "# Merge customers and transactions datasets\n",
    "transactions_with_customers = transactions.merge(customers, on=\"CustomerID\")\n",
    "\n",
    "# Aggregate transaction data by customer\n",
    "customer_transactions = transactions_with_customers.groupby(\"CustomerID\").agg(\n",
    "    TotalSpent=(\"TotalValue\", \"sum\"),\n",
    "    TotalTransactions=(\"TransactionID\", \"count\"),\n",
    "    AvgTransactionValue=(\"TotalValue\", \"mean\")\n",
    ").reset_index()\n",
    "\n",
    "# Merge aggregated data back with customers\n",
    "customer_profile = customers.merge(customer_transactions, on=\"CustomerID\", how=\"left\").fillna(0)\n"
   ]
  },
  {
   "cell_type": "code",
   "execution_count": 5,
   "id": "a998e7bc-0d18-426a-8b4e-6aa53fa7a701",
   "metadata": {},
   "outputs": [],
   "source": [
    "# Encode region as numerical values\n",
    "region_mapping = {region: idx for idx, region in enumerate(customer_profile[\"Region\"].unique())}\n",
    "customer_profile[\"RegionEncoded\"] = customer_profile[\"Region\"].map(region_mapping)\n",
    "\n",
    "# Select features for similarity calculation\n",
    "features = [\"TotalSpent\", \"TotalTransactions\", \"AvgTransactionValue\", \"RegionEncoded\"]\n",
    "\n",
    "# Scale features\n",
    "scaler = StandardScaler()\n",
    "scaled_features = scaler.fit_transform(customer_profile[features])\n"
   ]
  },
  {
   "cell_type": "code",
   "execution_count": 6,
   "id": "e0f2a6b5-6558-4238-abf6-b5e63651657f",
   "metadata": {},
   "outputs": [],
   "source": [
    "# Calculate cosine similarity\n",
    "similarity_matrix = cosine_similarity(scaled_features)\n",
    "\n",
    "# Function to get top 3 lookalikes for a given customer\n",
    "def get_top_3_lookalikes(customer_id, similarity_matrix, customer_ids):\n",
    "    customer_idx = customer_ids.index(customer_id)\n",
    "    similarities = list(enumerate(similarity_matrix[customer_idx]))\n",
    "    similarities = sorted(similarities, key=lambda x: x[1], reverse=True)\n",
    "    top_3 = [(customer_ids[idx], score) for idx, score in similarities[1:4]]  # Exclude self\n",
    "    return top_3\n",
    "\n",
    "# Get top 3 lookalikes for the first 20 customers\n",
    "customer_ids = customer_profile[\"CustomerID\"].tolist()\n",
    "lookalikes = {cust_id: get_top_3_lookalikes(cust_id, similarity_matrix, customer_ids) for cust_id in customer_ids[:20]}\n"
   ]
  },
  {
   "cell_type": "code",
   "execution_count": 6,
   "id": "1c47cb37-7ba5-4780-9272-4850f7517bae",
   "metadata": {},
   "outputs": [],
   "source": [
    "# Calculate cosine similarity\n",
    "similarity_matrix = cosine_similarity(scaled_features)\n",
    "\n",
    "# Function to get top 3 lookalikes for a given customer\n",
    "def get_top_3_lookalikes(customer_id, similarity_matrix, customer_ids):\n",
    "    customer_idx = customer_ids.index(customer_id)\n",
    "    similarities = list(enumerate(similarity_matrix[customer_idx]))\n",
    "    similarities = sorted(similarities, key=lambda x: x[1], reverse=True)\n",
    "    top_3 = [(customer_ids[idx], score) for idx, score in similarities[1:4]]  # Exclude self\n",
    "    return top_3\n",
    "\n",
    "# Get top 3 lookalikes for the first 20 customers\n",
    "customer_ids = customer_profile[\"CustomerID\"].tolist()\n",
    "lookalikes = {cust_id: get_top_3_lookalikes(cust_id, similarity_matrix, customer_ids) for cust_id in customer_ids[:20]}\n"
   ]
  },
  {
   "cell_type": "code",
   "execution_count": 2,
   "id": "718e9dfb-aad8-45c1-a999-6959f6f330bb",
   "metadata": {},
   "outputs": [
    {
     "ename": "NameError",
     "evalue": "name 'pd' is not defined",
     "output_type": "error",
     "traceback": [
      "\u001b[1;31m---------------------------------------------------------------------------\u001b[0m",
      "\u001b[1;31mNameError\u001b[0m                                 Traceback (most recent call last)",
      "Cell \u001b[1;32mIn[2], line 2\u001b[0m\n\u001b[0;32m      1\u001b[0m \u001b[38;5;66;03m# Prepare results in a DataFrame\u001b[39;00m\n\u001b[1;32m----> 2\u001b[0m lookalike_df \u001b[38;5;241m=\u001b[39m \u001b[43mpd\u001b[49m\u001b[38;5;241m.\u001b[39mDataFrame({\n\u001b[0;32m      3\u001b[0m     \u001b[38;5;124m\"\u001b[39m\u001b[38;5;124mCustomerID\u001b[39m\u001b[38;5;124m\"\u001b[39m: lookalikes\u001b[38;5;241m.\u001b[39mkeys(),\n\u001b[0;32m      4\u001b[0m     \u001b[38;5;124m\"\u001b[39m\u001b[38;5;124mLookalikes\u001b[39m\u001b[38;5;124m\"\u001b[39m: [\u001b[38;5;28mstr\u001b[39m(lookalikes[cust_id]) \u001b[38;5;28;01mfor\u001b[39;00m cust_id \u001b[38;5;129;01min\u001b[39;00m lookalikes\u001b[38;5;241m.\u001b[39mkeys()]\n\u001b[0;32m      5\u001b[0m })\n\u001b[0;32m      7\u001b[0m \u001b[38;5;66;03m# Save to a CSV file\u001b[39;00m\n\u001b[0;32m      8\u001b[0m lookalike_csv_path \u001b[38;5;241m=\u001b[39m \u001b[38;5;124m\"\u001b[39m\u001b[38;5;124mC:\u001b[39m\u001b[38;5;130;01m\\\\\u001b[39;00m\u001b[38;5;124mUsers\u001b[39m\u001b[38;5;130;01m\\\\\u001b[39;00m\u001b[38;5;124mpatan Nishath khan\u001b[39m\u001b[38;5;130;01m\\\\\u001b[39;00m\u001b[38;5;124mDownloads\u001b[39m\u001b[38;5;130;01m\\\\\u001b[39;00m\u001b[38;5;124mLookalike.csv\u001b[39m\u001b[38;5;124m\"\u001b[39m\n",
      "\u001b[1;31mNameError\u001b[0m: name 'pd' is not defined"
     ]
    }
   ],
   "source": [
    "# Prepare results in a DataFrame\n",
    "lookalike_df = pd.DataFrame({\n",
    "    \"CustomerID\": lookalikes.keys(),\n",
    "    \"Lookalikes\": [str(lookalikes[cust_id]) for cust_id in lookalikes.keys()]\n",
    "})\n",
    "\n",
    "# Save to a CSV file\n",
    "lookalike_csv_path = \"C:\\\\Users\\\\patan Nishath khan\\\\Downloads\\\\Lookalike.csv\"\n",
    "lookalike_df.to_csv(lookalike_csv_path, index=False)\n",
    "print(f\"Lookalike results saved to {lookalike_csv_path}\")\n"
   ]
  },
  {
   "cell_type": "code",
   "execution_count": null,
   "id": "9c23642c-ec1c-4a73-ad12-41d8fbc65595",
   "metadata": {},
   "outputs": [],
   "source": []
  }
 ],
 "metadata": {
  "kernelspec": {
   "display_name": "Python 3 (ipykernel)",
   "language": "python",
   "name": "python3"
  },
  "language_info": {
   "codemirror_mode": {
    "name": "ipython",
    "version": 3
   },
   "file_extension": ".py",
   "mimetype": "text/x-python",
   "name": "python",
   "nbconvert_exporter": "python",
   "pygments_lexer": "ipython3",
   "version": "3.12.1"
  }
 },
 "nbformat": 4,
 "nbformat_minor": 5
}
